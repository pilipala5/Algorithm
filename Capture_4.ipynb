{
 "cells": [
  {
   "cell_type": "markdown",
   "metadata": {},
   "source": [
    "# Array"
   ]
  },
  {
   "cell_type": "code",
   "execution_count": 2,
   "metadata": {},
   "outputs": [
    {
     "name": "stdout",
     "output_type": "stream",
     "text": [
      "[0, 0, 0, 0, 0]\n",
      "[1, 2, 3, 4, 5]\n"
     ]
    }
   ],
   "source": [
    "# 初始化数组\n",
    "arr: list[int] = [0] * 5\n",
    "nums: list[int] = [1, 2, 3 , 4, 5]\n",
    "print(arr)\n",
    "print(nums)"
   ]
  },
  {
   "cell_type": "code",
   "execution_count": 40,
   "metadata": {},
   "outputs": [
    {
     "data": {
      "text/plain": [
       "[1, 3, 10, 2, 4, 5]"
      ]
     },
     "execution_count": 40,
     "metadata": {},
     "output_type": "execute_result"
    }
   ],
   "source": [
    "import random\n",
    "\n",
    "def random_access(nums: list[int]) -> int:\n",
    "    \"\"\"\n",
    "    随机返回列表中的一个数\n",
    "\n",
    "    O(1)\n",
    "    O(1)\n",
    "    \"\"\"\n",
    "    idx = random.randint(0, len(nums) - 1)\n",
    "    return nums[idx]\n",
    "\n",
    "\n",
    "def insert(nums: list[int], idx: int, e: int) -> list[int]:\n",
    "    \"\"\"\n",
    "    在原数组中插入数组，数组长度不变\n",
    "\n",
    "    O(n)\n",
    "    O(1)\n",
    "    \"\"\"\n",
    "    for i in range(len(nums) - 2, idx - 1, -1):\n",
    "        nums[i + 1] = nums[i]\n",
    "    nums[idx] = e\n",
    "    return nums\n",
    "\n",
    "\n",
    "def delete(nums: list[int], idx: int) -> list[int]:\n",
    "    \"\"\"\n",
    "    删除当前位置的数据，末尾元素不变\n",
    "\n",
    "    O(n)\n",
    "    O(1)\n",
    "    \"\"\"\n",
    "    for i in range(idx, len(nums)-1):\n",
    "        nums[i] = nums[i + 1]\n",
    "    return nums\n",
    "\n",
    "\n",
    "def insert_change(nums: list[int], idx: int, e: int) -> list[int]:\n",
    "    \"\"\"\n",
    "    数组长度变\n",
    "\n",
    "    O(n)\n",
    "    O(n)\n",
    "    \"\"\"\n",
    "    new_arr = []\n",
    "    for i in range(0, idx):\n",
    "        new_arr.append(nums[i])\n",
    "    new_arr.append(e)\n",
    "    for i in range(idx, len(nums)):\n",
    "        new_arr.append(nums[i])\n",
    "    return new_arr\n",
    "        \n",
    "\n",
    "nums = [1, 3, 2, 4, 5]\n",
    "insert_change(nums, 2, 10)"
   ]
  },
  {
   "cell_type": "markdown",
   "metadata": {},
   "source": [
    "# linked list"
   ]
  },
  {
   "cell_type": "code",
   "execution_count": 44,
   "metadata": {},
   "outputs": [
    {
     "name": "stdout",
     "output_type": "stream",
     "text": [
      "4\n",
      "2\n"
     ]
    }
   ],
   "source": [
    "# 内存分散到内存各处， 内存地址无需连续\n",
    "class linkNode():\n",
    "    \"\"\"\n",
    "    单向链表,否则除了next还有preview\n",
    "    \"\"\"\n",
    "    def __init__(self, val) -> None:\n",
    "        self.value: int = val\n",
    "        self.next: linkNode | None = None\n",
    "\n",
    "\n",
    "def insert(n: linkNode, p: linkNode) -> None:\n",
    "    \"\"\"\n",
    "    将节点插入在二者之间\n",
    "    \"\"\"\n",
    "    next = n.next\n",
    "    n.next = p\n",
    "    p.next = next\n",
    "\n",
    "\n",
    "n0 = linkNode(0)\n",
    "n1 = linkNode(1)\n",
    "n2 = linkNode(2)\n",
    "n3 = linkNode(3)\n",
    "\n",
    "n0.next = n1; n1.next = n2; n2.next = n3\n",
    "n4 = linkNode(4)\n",
    "insert(n1, n4)\n",
    "print(n1.next.value)\n",
    "print(n4.next.value)\n",
    "        "
   ]
  }
 ],
 "metadata": {
  "kernelspec": {
   "display_name": "pytorch",
   "language": "python",
   "name": "python3"
  },
  "language_info": {
   "codemirror_mode": {
    "name": "ipython",
    "version": 3
   },
   "file_extension": ".py",
   "mimetype": "text/x-python",
   "name": "python",
   "nbconvert_exporter": "python",
   "pygments_lexer": "ipython3",
   "version": "3.12.4"
  }
 },
 "nbformat": 4,
 "nbformat_minor": 2
}
