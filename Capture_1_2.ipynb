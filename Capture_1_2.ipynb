{
 "cells": [
  {
   "cell_type": "markdown",
   "id": "8225a98c3eb5ecb4",
   "metadata": {},
   "source": [
    "# iteration"
   ]
  },
  {
   "cell_type": "code",
   "execution_count": 13,
   "id": "initial_id",
   "metadata": {
    "ExecuteTime": {
     "end_time": "2024-09-26T15:57:55.291862Z",
     "start_time": "2024-09-26T15:57:55.286857Z"
    },
    "collapsed": true
   },
   "outputs": [
    {
     "data": {
      "text/plain": [
       "6"
      ]
     },
     "execution_count": 13,
     "metadata": {},
     "output_type": "execute_result"
    }
   ],
   "source": [
    "def for_loop(n: int) -> int:\n",
    "    \"\"\"\n",
    "    \n",
    "    时间复杂度 o(n)\n",
    "    空间复杂度 o(1)\n",
    "    \n",
    "    :param n: \n",
    "    :return:  \n",
    "    \"\"\"\n",
    "    res = 0\n",
    "    for i in range(1, n+1):\n",
    "        res += i\n",
    "    return res\n",
    "\n",
    "for_loop(3) "
   ]
  },
  {
   "cell_type": "code",
   "execution_count": 15,
   "id": "6a32d86ab477e595",
   "metadata": {
    "ExecuteTime": {
     "end_time": "2024-09-26T16:04:44.509891Z",
     "start_time": "2024-09-26T16:04:44.504992Z"
    }
   },
   "outputs": [
    {
     "data": {
      "text/plain": [
       "6"
      ]
     },
     "execution_count": 15,
     "metadata": {},
     "output_type": "execute_result"
    }
   ],
   "source": [
    "def while_loop(n: int) -> int:\n",
    "    res = 0\n",
    "    i = 1\n",
    "    while i <= n:\n",
    "        res += i\n",
    "        i += 1\n",
    "    return res\n",
    "\n",
    "while_loop(3)"
   ]
  },
  {
   "cell_type": "markdown",
   "id": "d36664b819490d5c",
   "metadata": {},
   "source": [
    "# recursion"
   ]
  },
  {
   "cell_type": "code",
   "execution_count": 18,
   "id": "631dce156cb1dc9f",
   "metadata": {
    "ExecuteTime": {
     "end_time": "2024-09-26T16:09:47.759376Z",
     "start_time": "2024-09-26T16:09:47.753651Z"
    }
   },
   "outputs": [
    {
     "data": {
      "text/plain": [
       "6"
      ]
     },
     "execution_count": 18,
     "metadata": {},
     "output_type": "execute_result"
    }
   ],
   "source": [
    "def recur(n: int) -> int:\n",
    "    if n == 1:\n",
    "        return 1\n",
    "    res = recur(n - 1)\n",
    "    return n + res\n",
    "\n",
    "recur(3)"
   ]
  },
  {
   "cell_type": "code",
   "execution_count": 20,
   "id": "582c7e6b0ec4f6a6",
   "metadata": {
    "ExecuteTime": {
     "end_time": "2024-09-26T16:17:16.741632Z",
     "start_time": "2024-09-26T16:17:16.736581Z"
    }
   },
   "outputs": [
    {
     "data": {
      "text/plain": [
       "6"
      ]
     },
     "execution_count": 20,
     "metadata": {},
     "output_type": "execute_result"
    }
   ],
   "source": [
    "def tail_recur(n, res):\n",
    "    \"\"\"尾递归\"\"\"\n",
    "    # 终止条件\n",
    "    if n == 0:\n",
    "        return res\n",
    "    # 尾递归调用\n",
    "    return tail_recur(n - 1, res + n)\n",
    "\n",
    "tail_recur(3, 0)"
   ]
  },
  {
   "cell_type": "code",
   "execution_count": 31,
   "id": "2565d223c37e76f",
   "metadata": {
    "ExecuteTime": {
     "end_time": "2024-09-26T16:26:21.408979Z",
     "start_time": "2024-09-26T16:26:21.404440Z"
    }
   },
   "outputs": [
    {
     "data": {
      "text/plain": [
       "3"
      ]
     },
     "execution_count": 31,
     "metadata": {},
     "output_type": "execute_result"
    }
   ],
   "source": [
    "def fib(n: int) -> int:\n",
    "    \"\"\"\n",
    "    \n",
    "    时间复杂度 o(2n)\n",
    "    空间复杂度 o(n)\n",
    "    \n",
    "    :param n: \n",
    "    :return: \n",
    "    \"\"\"\n",
    "    # f(n) = f(n-1) + f(n-2)\n",
    "    if n == 1:\n",
    "        return 0\n",
    "    if n == 2:\n",
    "        return 1\n",
    "    \n",
    "    return fib(n - 1) + fib(n - 2)\n",
    "\n",
    "fib(5)"
   ]
  }
 ],
 "metadata": {
  "kernelspec": {
   "display_name": "Python 3",
   "language": "python",
   "name": "python3"
  },
  "language_info": {
   "codemirror_mode": {
    "name": "ipython",
    "version": 2
   },
   "file_extension": ".py",
   "mimetype": "text/x-python",
   "name": "python",
   "nbconvert_exporter": "python",
   "pygments_lexer": "ipython2",
   "version": "2.7.6"
  }
 },
 "nbformat": 4,
 "nbformat_minor": 5
}
